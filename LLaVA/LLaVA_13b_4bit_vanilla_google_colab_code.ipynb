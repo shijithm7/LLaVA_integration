{
 "cells": [
  {
   "cell_type": "markdown",
   "metadata": {},
   "source": [
    "# Introduction\n",
    "This notebook demonstrates how to quickly set up and test the LLaVA model with 4-bit quantization in Google Colab. This setup is optimized for rapid testing and inference using both language and vision models, leveraging Colab's GPUs.\n"
   ]
  },
  {
   "cell_type": "code",
   "execution_count": 1,
   "metadata": {
    "colab": {
     "base_uri": "https://localhost:8080/"
    },
    "id": "fIckzIvf93Sr",
    "outputId": "16623da0-5ef3-4903-d3af-1a09568cc04b"
   },
   "outputs": [
    {
     "name": "stdout",
     "output_type": "stream",
     "text": [
      "Python 3.10.12\n"
     ]
    }
   ],
   "source": [
    "# Check the Python version to ensure compatibility with LLaVA requirements\n",
    "\n",
    "!python --version"
   ]
  },
  {
   "cell_type": "code",
   "execution_count": null,
   "metadata": {
    "colab": {
     "base_uri": "https://localhost:8080/"
    },
    "id": "w2sHRSZGEoCk",
    "outputId": "3bf4c94a-47a4-4bb3-c498-1cbe05d56810"
   },
   "outputs": [
    {
     "name": "stdout",
     "output_type": "stream",
     "text": [
      "Package                          Version\n",
      "-------------------------------- ---------------------\n",
      "absl-py                          1.4.0\n",
      "accelerate                       0.32.1\n",
      "aiohttp                          3.9.5\n",
      "aiosignal                        1.3.1\n",
      "alabaster                        0.7.16\n",
      "albumentations                   1.3.1\n",
      "altair                           4.2.2\n",
      "annotated-types                  0.7.0\n",
      "anyio                            3.7.1\n",
      "argon2-cffi                      23.1.0\n",
      "argon2-cffi-bindings             21.2.0\n",
      "array_record                     0.5.1\n",
      "arviz                            0.15.1\n",
      "astropy                          5.3.4\n",
      "astunparse                       1.6.3\n",
      "async-timeout                    4.0.3\n",
      "atpublic                         4.1.0\n",
      "attrs                            23.2.0\n",
      "audioread                        3.0.1\n",
      "autograd                         1.6.2\n",
      "Babel                            2.15.0\n",
      "backcall                         0.2.0\n",
      "beautifulsoup4                   4.12.3\n",
      "bidict                           0.23.1\n",
      "bigframes                        1.11.1\n",
      "bleach                           6.1.0\n",
      "blinker                          1.4\n",
      "blis                             0.7.11\n",
      "blosc2                           2.0.0\n",
      "bokeh                            3.3.4\n",
      "bqplot                           0.12.43\n",
      "branca                           0.7.2\n",
      "build                            1.2.1\n",
      "CacheControl                     0.14.0\n",
      "cachetools                       5.4.0\n",
      "catalogue                        2.0.10\n",
      "certifi                          2024.7.4\n",
      "cffi                             1.16.0\n",
      "chardet                          5.2.0\n",
      "charset-normalizer               3.3.2\n",
      "chex                             0.1.86\n",
      "click                            8.1.7\n",
      "click-plugins                    1.1.1\n",
      "cligj                            0.7.2\n",
      "cloudpathlib                     0.18.1\n",
      "cloudpickle                      2.2.1\n",
      "cmake                            3.27.9\n",
      "cmdstanpy                        1.2.4\n",
      "colorcet                         3.1.0\n",
      "colorlover                       0.3.0\n",
      "colour                           0.1.5\n",
      "community                        1.0.0b1\n",
      "confection                       0.1.5\n",
      "cons                             0.4.6\n",
      "contextlib2                      21.6.0\n",
      "contourpy                        1.2.1\n",
      "cryptography                     43.0.0\n",
      "cuda-python                      12.2.1\n",
      "cudf-cu12                        24.4.1\n",
      "cufflinks                        0.17.3\n",
      "cupy-cuda12x                     12.2.0\n",
      "cvxopt                           1.3.2\n",
      "cvxpy                            1.3.4\n",
      "cycler                           0.12.1\n",
      "cymem                            2.0.8\n",
      "Cython                           3.0.10\n",
      "dask                             2023.8.1\n",
      "datascience                      0.17.6\n",
      "db-dtypes                        1.2.0\n",
      "dbus-python                      1.2.18\n",
      "debugpy                          1.6.6\n",
      "decorator                        4.4.2\n",
      "defusedxml                       0.7.1\n",
      "distributed                      2023.8.1\n",
      "distro                           1.7.0\n",
      "dlib                             19.24.4\n",
      "dm-tree                          0.1.8\n",
      "docstring_parser                 0.16\n",
      "docutils                         0.18.1\n",
      "dopamine_rl                      4.0.9\n",
      "duckdb                           0.10.3\n",
      "earthengine-api                  0.1.412\n",
      "easydict                         1.13\n",
      "ecos                             2.0.14\n",
      "editdistance                     0.6.2\n",
      "eerepr                           0.0.4\n",
      "en-core-web-sm                   3.7.1\n",
      "entrypoints                      0.4\n",
      "et-xmlfile                       1.1.0\n",
      "etils                            1.7.0\n",
      "etuples                          0.3.9\n",
      "exceptiongroup                   1.2.2\n",
      "fastai                           2.7.15\n",
      "fastcore                         1.5.54\n",
      "fastdownload                     0.0.7\n",
      "fastjsonschema                   2.20.0\n",
      "fastprogress                     1.0.3\n",
      "fastrlock                        0.8.2\n",
      "filelock                         3.15.4\n",
      "fiona                            1.9.6\n",
      "firebase-admin                   5.3.0\n",
      "Flask                            2.2.5\n",
      "flatbuffers                      24.3.25\n",
      "flax                             0.8.4\n",
      "folium                           0.14.0\n",
      "fonttools                        4.53.1\n",
      "frozendict                       2.4.4\n",
      "frozenlist                       1.4.1\n",
      "fsspec                           2023.6.0\n",
      "future                           0.18.3\n",
      "gast                             0.6.0\n",
      "gcsfs                            2023.6.0\n",
      "GDAL                             3.6.4\n",
      "gdown                            5.1.0\n",
      "geemap                           0.33.1\n",
      "gensim                           4.3.3\n",
      "geocoder                         1.38.1\n",
      "geographiclib                    2.0\n",
      "geopandas                        0.13.2\n",
      "geopy                            2.3.0\n",
      "gin-config                       0.5.0\n",
      "glob2                            0.7\n",
      "google                           2.0.3\n",
      "google-ai-generativelanguage     0.6.6\n",
      "google-api-core                  2.19.1\n",
      "google-api-python-client         2.137.0\n",
      "google-auth                      2.27.0\n",
      "google-auth-httplib2             0.2.0\n",
      "google-auth-oauthlib             1.2.1\n",
      "google-cloud-aiplatform          1.59.0\n",
      "google-cloud-bigquery            3.25.0\n",
      "google-cloud-bigquery-connection 1.15.4\n",
      "google-cloud-bigquery-storage    2.25.0\n",
      "google-cloud-bigtable            2.24.0\n",
      "google-cloud-core                2.4.1\n",
      "google-cloud-datastore           2.19.0\n",
      "google-cloud-firestore           2.16.1\n",
      "google-cloud-functions           1.16.4\n",
      "google-cloud-iam                 2.15.1\n",
      "google-cloud-language            2.13.4\n",
      "google-cloud-pubsub              2.22.0\n",
      "google-cloud-resource-manager    1.12.4\n",
      "google-cloud-storage             2.8.0\n",
      "google-cloud-translate           3.15.4\n",
      "google-colab                     1.0.0\n",
      "google-crc32c                    1.5.0\n",
      "google-generativeai              0.7.2\n",
      "google-pasta                     0.2.0\n",
      "google-resumable-media           2.7.1\n",
      "googleapis-common-protos         1.63.2\n",
      "googledrivedownloader            0.4\n",
      "graphviz                         0.20.3\n",
      "greenlet                         3.0.3\n",
      "grpc-google-iam-v1               0.13.1\n",
      "grpcio                           1.64.1\n",
      "grpcio-status                    1.48.2\n",
      "gspread                          6.0.2\n",
      "gspread-dataframe                3.3.1\n",
      "gym                              0.25.2\n",
      "gym-notices                      0.0.8\n",
      "h5netcdf                         1.3.0\n",
      "h5py                             3.9.0\n",
      "holidays                         0.53\n",
      "holoviews                        1.17.1\n",
      "html5lib                         1.1\n",
      "httpimport                       1.3.1\n",
      "httplib2                         0.22.0\n",
      "huggingface-hub                  0.23.5\n",
      "humanize                         4.7.0\n",
      "hyperopt                         0.2.7\n",
      "ibis-framework                   8.0.0\n",
      "idna                             3.7\n",
      "imageio                          2.31.6\n",
      "imageio-ffmpeg                   0.5.1\n",
      "imagesize                        1.4.1\n",
      "imbalanced-learn                 0.10.1\n",
      "imgaug                           0.4.0\n",
      "immutabledict                    4.2.0\n",
      "importlib_metadata               8.0.0\n",
      "importlib_resources              6.4.0\n",
      "imutils                          0.5.4\n",
      "inflect                          7.0.0\n",
      "iniconfig                        2.0.0\n",
      "intel-openmp                     2023.2.4\n",
      "ipyevents                        2.0.2\n",
      "ipyfilechooser                   0.6.0\n",
      "ipykernel                        5.5.6\n",
      "ipyleaflet                       0.18.2\n",
      "ipyparallel                      8.8.0\n",
      "ipython                          7.34.0\n",
      "ipython-genutils                 0.2.0\n",
      "ipython-sql                      0.5.0\n",
      "ipytree                          0.2.2\n",
      "ipywidgets                       7.7.1\n",
      "itsdangerous                     2.2.0\n",
      "jax                              0.4.26\n",
      "jaxlib                           0.4.26+cuda12.cudnn89\n",
      "jeepney                          0.7.1\n",
      "jellyfish                        1.0.4\n",
      "jieba                            0.42.1\n",
      "Jinja2                           3.1.4\n",
      "joblib                           1.4.2\n",
      "jsonpickle                       3.2.2\n",
      "jsonschema                       4.19.2\n",
      "jsonschema-specifications        2023.12.1\n",
      "jupyter-client                   6.1.12\n",
      "jupyter-console                  6.1.0\n",
      "jupyter_core                     5.7.2\n",
      "jupyter-server                   1.24.0\n",
      "jupyterlab_pygments              0.3.0\n",
      "jupyterlab_widgets               3.0.11\n",
      "kaggle                           1.6.14\n",
      "kagglehub                        0.2.8\n",
      "keras                            2.15.0\n",
      "keyring                          23.5.0\n",
      "kiwisolver                       1.4.5\n",
      "langcodes                        3.4.0\n",
      "language_data                    1.2.0\n",
      "launchpadlib                     1.10.16\n",
      "lazr.restfulclient               0.14.4\n",
      "lazr.uri                         1.0.6\n",
      "lazy_loader                      0.4\n",
      "libclang                         18.1.1\n",
      "librosa                          0.10.2.post1\n",
      "lightgbm                         4.1.0\n",
      "linkify-it-py                    2.0.3\n",
      "llvmlite                         0.41.1\n",
      "locket                           1.0.0\n",
      "logical-unification              0.4.6\n",
      "lxml                             4.9.4\n",
      "malloy                           2023.1067\n",
      "marisa-trie                      1.2.0\n",
      "Markdown                         3.6\n",
      "markdown-it-py                   3.0.0\n",
      "MarkupSafe                       2.1.5\n",
      "matplotlib                       3.7.1\n",
      "matplotlib-inline                0.1.7\n",
      "matplotlib-venn                  0.11.10\n",
      "mdit-py-plugins                  0.4.1\n",
      "mdurl                            0.1.2\n",
      "miniKanren                       1.0.3\n",
      "missingno                        0.5.2\n",
      "mistune                          0.8.4\n",
      "mizani                           0.9.3\n",
      "mkl                              2023.2.0\n",
      "ml-dtypes                        0.2.0\n",
      "mlxtend                          0.22.0\n",
      "more-itertools                   10.1.0\n",
      "moviepy                          1.0.3\n",
      "mpmath                           1.3.0\n",
      "msgpack                          1.0.8\n",
      "multidict                        6.0.5\n",
      "multipledispatch                 1.0.0\n",
      "multitasking                     0.0.11\n",
      "murmurhash                       1.0.10\n",
      "music21                          9.1.0\n",
      "natsort                          8.4.0\n",
      "nbclassic                        1.1.0\n",
      "nbclient                         0.10.0\n",
      "nbconvert                        6.5.4\n",
      "nbformat                         5.10.4\n",
      "nest-asyncio                     1.6.0\n",
      "networkx                         3.3\n",
      "nibabel                          4.0.2\n",
      "nltk                             3.8.1\n",
      "notebook                         6.5.5\n",
      "notebook_shim                    0.2.4\n",
      "numba                            0.58.1\n",
      "numexpr                          2.10.1\n",
      "numpy                            1.25.2\n",
      "nvtx                             0.2.10\n",
      "oauth2client                     4.1.3\n",
      "oauthlib                         3.2.2\n",
      "opencv-contrib-python            4.8.0.76\n",
      "opencv-python                    4.8.0.76\n",
      "opencv-python-headless           4.10.0.84\n",
      "openpyxl                         3.1.5\n",
      "opt-einsum                       3.3.0\n",
      "optax                            0.2.2\n",
      "orbax-checkpoint                 0.4.4\n",
      "osqp                             0.6.2.post8\n",
      "packaging                        24.1\n",
      "pandas                           2.0.3\n",
      "pandas-datareader                0.10.0\n",
      "pandas-gbq                       0.19.2\n",
      "pandas-stubs                     2.0.3.230814\n",
      "pandocfilters                    1.5.1\n",
      "panel                            1.3.8\n",
      "param                            2.1.1\n",
      "parso                            0.8.4\n",
      "parsy                            2.1\n",
      "partd                            1.4.2\n",
      "pathlib                          1.0.1\n",
      "patsy                            0.5.6\n",
      "peewee                           3.17.6\n",
      "pexpect                          4.9.0\n",
      "pickleshare                      0.7.5\n",
      "Pillow                           9.4.0\n",
      "pip                              24.1.2\n",
      "pip-tools                        7.4.1\n",
      "platformdirs                     4.2.2\n",
      "plotly                           5.15.0\n",
      "plotnine                         0.12.4\n",
      "pluggy                           1.5.0\n",
      "polars                           0.20.2\n",
      "pooch                            1.8.2\n",
      "portpicker                       1.5.2\n",
      "prefetch_generator               1.0.3\n",
      "preshed                          3.0.9\n",
      "prettytable                      3.10.2\n",
      "proglog                          0.1.10\n",
      "progressbar2                     4.2.0\n",
      "prometheus_client                0.20.0\n",
      "promise                          2.3\n",
      "prompt_toolkit                   3.0.47\n",
      "prophet                          1.1.5\n",
      "proto-plus                       1.24.0\n",
      "protobuf                         3.20.3\n",
      "psutil                           5.9.5\n",
      "psycopg2                         2.9.9\n",
      "ptyprocess                       0.7.0\n",
      "py-cpuinfo                       9.0.0\n",
      "py4j                             0.10.9.7\n",
      "pyarrow                          14.0.2\n",
      "pyarrow-hotfix                   0.6\n",
      "pyasn1                           0.6.0\n",
      "pyasn1_modules                   0.4.0\n",
      "pycocotools                      2.0.8\n",
      "pycparser                        2.22\n",
      "pydantic                         2.8.2\n",
      "pydantic_core                    2.20.1\n",
      "pydata-google-auth               1.8.2\n",
      "pydot                            1.4.2\n",
      "pydot-ng                         2.0.0\n",
      "pydotplus                        2.0.2\n",
      "PyDrive                          1.3.1\n",
      "PyDrive2                         1.6.3\n",
      "pyerfa                           2.0.1.4\n",
      "pygame                           2.6.0\n",
      "Pygments                         2.16.1\n",
      "PyGObject                        3.42.1\n",
      "PyJWT                            2.3.0\n",
      "pymc                             5.10.4\n",
      "pymystem3                        0.2.0\n",
      "pynvjitlink-cu12                 0.3.0\n",
      "PyOpenGL                         3.1.7\n",
      "pyOpenSSL                        24.2.1\n",
      "pyparsing                        3.1.2\n",
      "pyperclip                        1.9.0\n",
      "pyproj                           3.6.1\n",
      "pyproject_hooks                  1.1.0\n",
      "pyshp                            2.3.1\n",
      "PySocks                          1.7.1\n",
      "pytensor                         2.18.6\n",
      "pytest                           7.4.4\n",
      "python-apt                       2.4.0\n",
      "python-box                       7.2.0\n",
      "python-dateutil                  2.8.2\n",
      "python-louvain                   0.16\n",
      "python-slugify                   8.0.4\n",
      "python-utils                     3.8.2\n",
      "pytz                             2023.4\n",
      "pyviz_comms                      3.0.2\n",
      "PyWavelets                       1.6.0\n",
      "PyYAML                           6.0.1\n",
      "pyzmq                            24.0.1\n",
      "qdldl                            0.1.7.post4\n",
      "qudida                           0.0.4\n",
      "ratelim                          0.1.6\n",
      "referencing                      0.35.1\n",
      "regex                            2024.5.15\n",
      "requests                         2.31.0\n",
      "requests-oauthlib                1.3.1\n",
      "requirements-parser              0.9.0\n",
      "rich                             13.7.1\n",
      "rmm-cu12                         24.4.0\n",
      "rpds-py                          0.19.0\n",
      "rpy2                             3.4.2\n",
      "rsa                              4.9\n",
      "safetensors                      0.4.3\n",
      "scikit-image                     0.19.3\n",
      "scikit-learn                     1.2.2\n",
      "scipy                            1.11.4\n",
      "scooby                           0.10.0\n",
      "scs                              3.2.6\n",
      "seaborn                          0.13.1\n",
      "SecretStorage                    3.3.1\n",
      "Send2Trash                       1.8.3\n",
      "sentencepiece                    0.1.99\n",
      "setuptools                       71.0.4\n",
      "shapely                          2.0.5\n",
      "shellingham                      1.5.4\n",
      "simple_parsing                   0.1.5\n",
      "six                              1.16.0\n",
      "sklearn-pandas                   2.2.0\n",
      "smart-open                       7.0.4\n",
      "sniffio                          1.3.1\n",
      "snowballstemmer                  2.2.0\n",
      "sortedcontainers                 2.4.0\n",
      "soundfile                        0.12.1\n",
      "soupsieve                        2.5\n",
      "soxr                             0.3.7\n",
      "spacy                            3.7.5\n",
      "spacy-legacy                     3.0.12\n",
      "spacy-loggers                    1.0.5\n",
      "Sphinx                           5.0.2\n",
      "sphinxcontrib-applehelp          1.0.8\n",
      "sphinxcontrib-devhelp            1.0.6\n",
      "sphinxcontrib-htmlhelp           2.0.6\n",
      "sphinxcontrib-jsmath             1.0.1\n",
      "sphinxcontrib-qthelp             1.0.8\n",
      "sphinxcontrib-serializinghtml    1.1.10\n",
      "SQLAlchemy                       2.0.31\n",
      "sqlglot                          20.11.0\n",
      "sqlparse                         0.5.1\n",
      "srsly                            2.4.8\n",
      "stanio                           0.5.1\n",
      "statsmodels                      0.14.2\n",
      "StrEnum                          0.4.15\n",
      "sympy                            1.13.1\n",
      "tables                           3.8.0\n",
      "tabulate                         0.9.0\n",
      "tbb                              2021.13.0\n",
      "tblib                            3.0.0\n",
      "tenacity                         8.5.0\n",
      "tensorboard                      2.15.2\n",
      "tensorboard-data-server          0.7.2\n",
      "tensorflow                       2.15.0\n",
      "tensorflow-datasets              4.9.6\n",
      "tensorflow-estimator             2.15.0\n",
      "tensorflow-gcs-config            2.15.0\n",
      "tensorflow-hub                   0.16.1\n",
      "tensorflow-io-gcs-filesystem     0.37.1\n",
      "tensorflow-metadata              1.15.0\n",
      "tensorflow-probability           0.23.0\n",
      "tensorstore                      0.1.45\n",
      "termcolor                        2.4.0\n",
      "terminado                        0.18.1\n",
      "text-unidecode                   1.3\n",
      "textblob                         0.17.1\n",
      "tf_keras                         2.15.1\n",
      "tf-slim                          1.1.0\n",
      "thinc                            8.2.5\n",
      "threadpoolctl                    3.5.0\n",
      "tifffile                         2024.7.21\n",
      "tinycss2                         1.3.0\n",
      "tokenizers                       0.19.1\n",
      "toml                             0.10.2\n",
      "tomli                            2.0.1\n",
      "toolz                            0.12.1\n",
      "torch                            2.3.1+cu121\n",
      "torchaudio                       2.3.1+cu121\n",
      "torchsummary                     1.5.1\n",
      "torchtext                        0.18.0\n",
      "torchvision                      0.18.1+cu121\n",
      "tornado                          6.3.3\n",
      "tqdm                             4.66.4\n",
      "traitlets                        5.7.1\n",
      "traittypes                       0.2.1\n",
      "transformers                     4.42.4\n",
      "triton                           2.3.1\n",
      "tweepy                           4.14.0\n",
      "typer                            0.12.3\n",
      "types-pytz                       2024.1.0.20240417\n",
      "types-setuptools                 71.1.0.20240723\n",
      "typing_extensions                4.12.2\n",
      "tzdata                           2024.1\n",
      "tzlocal                          5.2\n",
      "uc-micro-py                      1.0.3\n",
      "uritemplate                      4.1.1\n",
      "urllib3                          2.0.7\n",
      "vega-datasets                    0.9.0\n",
      "wadllib                          1.3.6\n",
      "wasabi                           1.1.3\n",
      "wcwidth                          0.2.13\n",
      "weasel                           0.4.1\n",
      "webcolors                        24.6.0\n",
      "webencodings                     0.5.1\n",
      "websocket-client                 1.8.0\n",
      "Werkzeug                         3.0.3\n",
      "wheel                            0.43.0\n",
      "widgetsnbextension               3.6.7\n",
      "wordcloud                        1.9.3\n",
      "wrapt                            1.14.1\n",
      "xarray                           2023.7.0\n",
      "xarray-einstats                  0.7.0\n",
      "xgboost                          2.0.3\n",
      "xlrd                             2.0.1\n",
      "xyzservices                      2024.6.0\n",
      "yarl                             1.9.4\n",
      "yellowbrick                      1.5\n",
      "yfinance                         0.2.41\n",
      "zict                             3.0.0\n",
      "zipp                             3.19.2\n"
     ]
    }
   ],
   "source": [
    "# List all installed packages in the current environment\n",
    "!pip list"
   ]
  },
  {
   "cell_type": "markdown",
   "metadata": {},
   "source": [
    "# Setup and Environment Preparation\n",
    "Initial setup involves mounting Google Drive to access files and installing specific libraries required for the LLaVA model. This step ensures all necessary dependencies are in place for successful model execution.\n"
   ]
  },
  {
   "cell_type": "code",
   "execution_count": null,
   "metadata": {
    "colab": {
     "base_uri": "https://localhost:8080/"
    },
    "id": "VnaBo6HGUg7R",
    "outputId": "9e99e8e5-a79a-4e00-d259-a5d9b78f1efc"
   },
   "outputs": [
    {
     "name": "stdout",
     "output_type": "stream",
     "text": [
      "Drive already mounted at /content/drive; to attempt to forcibly remount, call drive.mount(\"/content/drive\", force_remount=True).\n"
     ]
    }
   ],
   "source": [
    "# Mount Google Drive to access files stored there\n",
    "\n",
    "\n",
    "from google.colab import drive\n",
    "drive.mount('/content/drive')"
   ]
  },
  {
   "cell_type": "markdown",
   "metadata": {},
   "source": [
    "# Setup and Environment Preparation\n",
    "Initial setup involves mounting Google Drive to access files and installing specific libraries required for the LLaVA model. This step ensures all necessary dependencies are in place for successful model execution.\n"
   ]
  },
  {
   "cell_type": "code",
   "execution_count": null,
   "metadata": {
    "colab": {
     "base_uri": "https://localhost:8080/"
    },
    "id": "FxOTbuZDU3KB",
    "outputId": "720e4b06-fcfa-4d6b-b7c4-9399d7f96a6b"
   },
   "outputs": [
    {
     "name": "stdout",
     "output_type": "stream",
     "text": [
      "/content/drive\n"
     ]
    }
   ],
   "source": [
    "# Navigate to the drive directory\n",
    "%cd drive"
   ]
  },
  {
   "cell_type": "code",
   "execution_count": null,
   "metadata": {
    "colab": {
     "base_uri": "https://localhost:8080/"
    },
    "id": "0LfwnlngU-ew",
    "outputId": "6e002c7b-b251-49fe-805f-c49ee9c694f7"
   },
   "outputs": [
    {
     "name": "stdout",
     "output_type": "stream",
     "text": [
      "mkdir: cannot create directory ‘/content/drive/MyDrive/llmva’: File exists\n"
     ]
    }
   ],
   "source": [
    "# Create a new directory for the project in Google Drive\n",
    "\n",
    "mkdir /content/drive/MyDrive/llmva"
   ]
  },
  {
   "cell_type": "code",
   "execution_count": null,
   "metadata": {
    "colab": {
     "base_uri": "https://localhost:8080/"
    },
    "id": "V763Tf0aVWKq",
    "outputId": "82f69603-09cc-461c-ddc6-1fc8ad8abb4f"
   },
   "outputs": [
    {
     "name": "stdout",
     "output_type": "stream",
     "text": [
      "/content/drive/MyDrive/llmva\n"
     ]
    }
   ],
   "source": [
    "# Change the current working directory to the project folder\n",
    "\n",
    "%cd /content/drive/MyDrive/llmva"
   ]
  },
  {
   "cell_type": "code",
   "execution_count": null,
   "metadata": {
    "colab": {
     "base_uri": "https://localhost:8080/"
    },
    "id": "wPlWbrR5Vbr-",
    "outputId": "7d28d13f-a534-4bb6-aa8e-18e11cc6625e"
   },
   "outputs": [
    {
     "name": "stdout",
     "output_type": "stream",
     "text": [
      "fatal: destination path 'LLaVA' already exists and is not an empty directory.\n"
     ]
    }
   ],
   "source": [
    "# Clone the specified GitHub repository for the LLaVA project\n",
    "\n",
    "!git clone -b v1.0 https://github.com/camenduru/LLaVA"
   ]
  },
  {
   "cell_type": "code",
   "execution_count": null,
   "metadata": {
    "colab": {
     "base_uri": "https://localhost:8080/"
    },
    "id": "cpg212JPVioG",
    "outputId": "c0660dbe-4643-4142-dfed-e91b270b29e2"
   },
   "outputs": [
    {
     "name": "stdout",
     "output_type": "stream",
     "text": [
      "/content/drive/MyDrive/llmva/LLaVA\n"
     ]
    }
   ],
   "source": [
    "# Change to the cloned repository's directory\n",
    "\n",
    "%cd /content/drive/MyDrive/llmva/LLaVA"
   ]
  },
  {
   "cell_type": "markdown",
   "metadata": {},
   "source": [
    "# Installing Dependencies\n",
    "Correct versions of dependencies are crucial for the model's functionality. Here, we ensure that all required packages are installed to avoid any compatibility issues during model execution.\n"
   ]
  },
  {
   "cell_type": "code",
   "execution_count": null,
   "metadata": {
    "colab": {
     "base_uri": "https://localhost:8080/"
    },
    "id": "2cDoZkWsV4Z9",
    "outputId": "81dc96f8-d50a-4648-bf9e-05d483bd34d2"
   },
   "outputs": [
    {
     "name": "stdout",
     "output_type": "stream",
     "text": [
      "\u001b[31mERROR: pip's dependency resolver does not currently take into account all the packages that are installed. This behaviour is the source of the following dependency conflicts.\n",
      "llava 1.1.1 requires transformers==4.31.0, but you have transformers 4.36.2 which is incompatible.\u001b[0m\u001b[31m\n",
      "\u001b[0m  Installing build dependencies ... \u001b[?25l\u001b[?25hdone\n",
      "  Getting requirements to build wheel ... \u001b[?25l\u001b[?25hdone\n",
      "  Preparing metadata (pyproject.toml) ... \u001b[?25l\u001b[?25hdone\n",
      "  Building wheel for llava (pyproject.toml) ... \u001b[?25l\u001b[?25hdone\n"
     ]
    }
   ],
   "source": [
    "# Install required libraries for the project\n",
    "!pip install -q transformers==4.36.2\n",
    "!pip install -q gradio ."
   ]
  },
  {
   "cell_type": "markdown",
   "metadata": {},
   "source": [
    "# Importing Libraries and Model Setup\n",
    "Import all necessary libraries and configure the LLaVA model for 4-bit quantization. This step optimizes the model for efficient computation and prepares it for high-performance inference tasks.\n"
   ]
  },
  {
   "cell_type": "code",
   "execution_count": null,
   "metadata": {
    "colab": {
     "base_uri": "https://localhost:8080/"
    },
    "id": "0CIqSvD-WUmt",
    "outputId": "97195945-8c23-4f17-e66c-d8198a450f0d"
   },
   "outputs": [
    {
     "name": "stdout",
     "output_type": "stream",
     "text": [
      "[2024-08-24 12:44:22,762] [INFO] [real_accelerator.py:110:get_accelerator] Setting ds_accelerator to cuda (auto detect)\n"
     ]
    }
   ],
   "source": [
    "# Import necessary libraries and configure model parameters\n",
    "\n",
    "import os\n",
    "import requests\n",
    "from PIL import Image\n",
    "from io import BytesIO\n",
    "from llava.conversation import conv_templates, SeparatorStyle\n",
    "from llava.utils import disable_torch_init\n",
    "from llava.constants import IMAGE_TOKEN_INDEX, DEFAULT_IMAGE_TOKEN, DEFAULT_IM_START_TOKEN, DEFAULT_IM_END_TOKEN\n",
    "from llava.mm_utils import tokenizer_image_token, get_model_name_from_path, KeywordsStoppingCriteria\n",
    "from transformers import TextStreamer\n",
    "from transformers import AutoTokenizer, BitsAndBytesConfig\n",
    "from llava.model import LlavaLlamaForCausalLM\n",
    "import torch"
   ]
  },
  {
   "cell_type": "code",
   "execution_count": null,
   "metadata": {
    "colab": {
     "base_uri": "https://localhost:8080/",
     "height": 191,
     "referenced_widgets": [
      "69441de3f3a54246bfafba2cdef6b3b0",
      "c25c06468da244bca7c7611cfa4f1114",
      "854a6e11901d4eb78bc1c080c7a07604",
      "e15bb373ca214346960cb6527d921fec",
      "f0f1d461dd674d4a986be7423681e412",
      "c34af28df6e64912b379578729dedc66",
      "e3ab31d9800043329fa9b1141b3dc24d",
      "8d5ef144ba4f49a69a397cc553f6e7eb",
      "d3686346db5342cb81f555e6f325dd2b",
      "d85050dd57f34c8a9bd69a0bdfb2087b",
      "56cb4279b9d54efc96a226f7ecd2a8a0"
     ]
    },
    "id": "S5Jw06slWO2z",
    "outputId": "a9025a53-4251-4873-9fab-3492e8693053"
   },
   "outputs": [
    {
     "name": "stderr",
     "output_type": "stream",
     "text": [
      "/usr/local/lib/python3.10/dist-packages/huggingface_hub/file_download.py:1132: FutureWarning: `resume_download` is deprecated and will be removed in version 1.0.0. Downloads always resume when possible. If you want to force a new download, use `force_download=True`.\n",
      "  warnings.warn(\n",
      "/usr/local/lib/python3.10/dist-packages/huggingface_hub/utils/_token.py:99: UserWarning: \n",
      "Error while fetching `HF_TOKEN` secret value from your vault: 'Requesting secret HF_TOKEN timed out. Secrets can only be fetched when running from the Colab UI.'.\n",
      "You are not authenticated with the Hugging Face Hub in this notebook.\n",
      "If the error persists, please let us know by opening an issue on GitHub (https://github.com/huggingface/huggingface_hub/issues/new).\n",
      "  warnings.warn(\n"
     ]
    },
    {
     "data": {
      "application/vnd.jupyter.widget-view+json": {
       "model_id": "69441de3f3a54246bfafba2cdef6b3b0",
       "version_major": 2,
       "version_minor": 0
      },
      "text/plain": [
       "Loading checkpoint shards:   0%|          | 0/9 [00:00<?, ?it/s]"
      ]
     },
     "metadata": {},
     "output_type": "display_data"
    }
   ],
   "source": [
    "# Set up the model with specific quantization parameters for memory efficiency\n",
    "\n",
    "model_path = \"4bit/llava-v1.5-13b-3GB\"\n",
    "kwargs = {\"device_map\": \"auto\"}\n",
    "kwargs['load_in_4bit'] = True\n",
    "kwargs['quantization_config'] = BitsAndBytesConfig(\n",
    "    load_in_4bit=True,\n",
    "    bnb_4bit_compute_dtype=torch.float16,\n",
    "    bnb_4bit_use_double_quant=True,\n",
    "    bnb_4bit_quant_type='nf4'\n",
    ")\n",
    "model = LlavaLlamaForCausalLM.from_pretrained(model_path, low_cpu_mem_usage=True, **kwargs)\n",
    "tokenizer = AutoTokenizer.from_pretrained(model_path, use_fast=False)\n",
    "\n",
    "vision_tower = model.get_vision_tower()\n",
    "if not vision_tower.is_loaded:\n",
    "    vision_tower.load_model()\n",
    "vision_tower.to(device='cuda')\n",
    "image_processor = vision_tower.image_processor"
   ]
  },
  {
   "cell_type": "markdown",
   "metadata": {},
   "source": [
    "# Function Definition for Interaction\n",
    "Define the `interact_image` function to handle image and text inputs. This function processes the images, feeds them into the model along with text prompts, and generates responses, showcasing the model's capabilities in real-time.\n"
   ]
  },
  {
   "cell_type": "code",
   "execution_count": null,
   "metadata": {
    "id": "2MZmkuBsUTHZ"
   },
   "outputs": [],
   "source": [
    "\n",
    "def interact_image(image_file, prompt):\n",
    "\n",
    "\n",
    "     \"\"\"\n",
    "    Function to load an image, preprocess it, and perform inference using the LLaVA model.\n",
    "    \n",
    "    Args:\n",
    "    image_path (str): The path to the image file.\n",
    "    prompt (str): The prompt to guide the model's response generation, including queries about the image.\n",
    "\n",
    "    Returns:\n",
    "    tuple: The original image and the model's textual output.\n",
    "    \"\"\"\n",
    "\n",
    "    # Load and preprocess the image for inference\n",
    "    if image_file.startswith('http') or image_file.startswith('https'):\n",
    "        response = requests.get(image_file)\n",
    "        image = Image.open(BytesIO(response.content)).convert('RGB')\n",
    "    else:\n",
    "        image = Image.open(image_file).convert('RGB')\n",
    "    disable_torch_init()\n",
    "    conv_mode = \"llava_v0\"\n",
    "    conv = conv_templates[conv_mode].copy()\n",
    "    roles = conv.roles\n",
    "    image_tensor = image_processor.preprocess(image, return_tensors='pt')['pixel_values'].half().cuda()\n",
    "\n",
    "    # Prepare the input prompt with role and token markers\n",
    "    inp = f\"{roles[0]}: {prompt}\"\n",
    "    inp = DEFAULT_IM_START_TOKEN + DEFAULT_IMAGE_TOKEN + DEFAULT_IM_END_TOKEN + '\\n' + inp\n",
    "    # Initialize a conversation object and append initial messages\n",
    "    conv.append_message(conv.roles[0], inp)\n",
    "    conv.append_message(conv.roles[1], None)\n",
    "    # Construct the full prompt and convert it to tensor for model input\n",
    "    raw_prompt = conv.get_prompt()\n",
    "    input_ids = tokenizer_image_token(raw_prompt, tokenizer, IMAGE_TOKEN_INDEX, return_tensors='pt').unsqueeze(0).cuda()\n",
    "    stop_str = conv.sep if conv.sep_style != SeparatorStyle.TWO else conv.sep2\n",
    "    keywords = [stop_str]\n",
    "    stopping_criteria = KeywordsStoppingCriteria(keywords, tokenizer, input_ids)\n",
    "    # Perform model inference in no_grad context to optimize memory usage\n",
    "    with torch.inference_mode():\n",
    "      output_ids = model.generate(input_ids, images=image_tensor, do_sample=True, temperature=0.2,\n",
    "                                  max_new_tokens=1024, use_cache=True, stopping_criteria=[stopping_criteria])\n",
    "    outputs = tokenizer.decode(output_ids[0, input_ids.shape[1]:]).strip()\n",
    "    conv.messages[-1][-1] = outputs\n",
    "    output = outputs.rsplit('</s>', 1)[0]\n",
    "    return image, output"
   ]
  },
  {
   "cell_type": "markdown",
   "metadata": {},
   "source": [
    "# Executing Inference\n",
    "Perform inference by running the `interact_image` function with an example image and prompt. This section demonstrates the practical application of the model in interpreting and responding to complex queries about the content of images.\n"
   ]
  },
  {
   "cell_type": "code",
   "execution_count": null,
   "metadata": {
    "colab": {
     "base_uri": "https://localhost:8080/"
    },
    "id": "WbvpNRxTUTHc",
    "outputId": "b479cf46-6216-4084-cfa4-63af83158a40"
   },
   "outputs": [
    {
     "name": "stdout",
     "output_type": "stream",
     "text": [
      "The image is a black and white drawing of a model, likely a 3D model, featuring a long object with a curve. The drawing includes various measurements and dimensions, such as 1.5\" and 1.25\". The measurements are provided in inches, and the drawing appears to be a blueprint or a technical drawing. The image also has a few notes, which might provide additional information or instructions for the model.\n"
     ]
    }
   ],
   "source": [
    "# Execute the interaction with a sample image and print the outputi\n",
    "\n",
    "mage, output = interact_image(f'Screenshot from 2024-08-24 13-52-43.png',\n",
    "'Describe the image and color details. as well what are this drawings? which dimensions are provided here? and what are the measurements available?'\n",
    ")\n",
    "print(output)"
   ]
  }
 ],
 "metadata": {
  "accelerator": "GPU",
  "colab": {
   "gpuType": "T4",
   "provenance": []
  },
  "kernelspec": {
   "display_name": "Python 3 (ipykernel)",
   "language": "python",
   "name": "python3"
  },
  "language_info": {
   "codemirror_mode": {
    "name": "ipython",
    "version": 3
   },
   "file_extension": ".py",
   "mimetype": "text/x-python",
   "name": "python",
   "nbconvert_exporter": "python",
   "pygments_lexer": "ipython3",
   "version": "3.8.10"
  },
  "widgets": {
   "application/vnd.jupyter.widget-state+json": {
    "56cb4279b9d54efc96a226f7ecd2a8a0": {
     "model_module": "@jupyter-widgets/controls",
     "model_module_version": "1.5.0",
     "model_name": "DescriptionStyleModel",
     "state": {
      "_model_module": "@jupyter-widgets/controls",
      "_model_module_version": "1.5.0",
      "_model_name": "DescriptionStyleModel",
      "_view_count": null,
      "_view_module": "@jupyter-widgets/base",
      "_view_module_version": "1.2.0",
      "_view_name": "StyleView",
      "description_width": ""
     }
    },
    "69441de3f3a54246bfafba2cdef6b3b0": {
     "model_module": "@jupyter-widgets/controls",
     "model_module_version": "1.5.0",
     "model_name": "HBoxModel",
     "state": {
      "_dom_classes": [],
      "_model_module": "@jupyter-widgets/controls",
      "_model_module_version": "1.5.0",
      "_model_name": "HBoxModel",
      "_view_count": null,
      "_view_module": "@jupyter-widgets/controls",
      "_view_module_version": "1.5.0",
      "_view_name": "HBoxView",
      "box_style": "",
      "children": [
       "IPY_MODEL_c25c06468da244bca7c7611cfa4f1114",
       "IPY_MODEL_854a6e11901d4eb78bc1c080c7a07604",
       "IPY_MODEL_e15bb373ca214346960cb6527d921fec"
      ],
      "layout": "IPY_MODEL_f0f1d461dd674d4a986be7423681e412"
     }
    },
    "854a6e11901d4eb78bc1c080c7a07604": {
     "model_module": "@jupyter-widgets/controls",
     "model_module_version": "1.5.0",
     "model_name": "FloatProgressModel",
     "state": {
      "_dom_classes": [],
      "_model_module": "@jupyter-widgets/controls",
      "_model_module_version": "1.5.0",
      "_model_name": "FloatProgressModel",
      "_view_count": null,
      "_view_module": "@jupyter-widgets/controls",
      "_view_module_version": "1.5.0",
      "_view_name": "ProgressView",
      "bar_style": "success",
      "description": "",
      "description_tooltip": null,
      "layout": "IPY_MODEL_8d5ef144ba4f49a69a397cc553f6e7eb",
      "max": 9,
      "min": 0,
      "orientation": "horizontal",
      "style": "IPY_MODEL_d3686346db5342cb81f555e6f325dd2b",
      "value": 9
     }
    },
    "8d5ef144ba4f49a69a397cc553f6e7eb": {
     "model_module": "@jupyter-widgets/base",
     "model_module_version": "1.2.0",
     "model_name": "LayoutModel",
     "state": {
      "_model_module": "@jupyter-widgets/base",
      "_model_module_version": "1.2.0",
      "_model_name": "LayoutModel",
      "_view_count": null,
      "_view_module": "@jupyter-widgets/base",
      "_view_module_version": "1.2.0",
      "_view_name": "LayoutView",
      "align_content": null,
      "align_items": null,
      "align_self": null,
      "border": null,
      "bottom": null,
      "display": null,
      "flex": null,
      "flex_flow": null,
      "grid_area": null,
      "grid_auto_columns": null,
      "grid_auto_flow": null,
      "grid_auto_rows": null,
      "grid_column": null,
      "grid_gap": null,
      "grid_row": null,
      "grid_template_areas": null,
      "grid_template_columns": null,
      "grid_template_rows": null,
      "height": null,
      "justify_content": null,
      "justify_items": null,
      "left": null,
      "margin": null,
      "max_height": null,
      "max_width": null,
      "min_height": null,
      "min_width": null,
      "object_fit": null,
      "object_position": null,
      "order": null,
      "overflow": null,
      "overflow_x": null,
      "overflow_y": null,
      "padding": null,
      "right": null,
      "top": null,
      "visibility": null,
      "width": null
     }
    },
    "c25c06468da244bca7c7611cfa4f1114": {
     "model_module": "@jupyter-widgets/controls",
     "model_module_version": "1.5.0",
     "model_name": "HTMLModel",
     "state": {
      "_dom_classes": [],
      "_model_module": "@jupyter-widgets/controls",
      "_model_module_version": "1.5.0",
      "_model_name": "HTMLModel",
      "_view_count": null,
      "_view_module": "@jupyter-widgets/controls",
      "_view_module_version": "1.5.0",
      "_view_name": "HTMLView",
      "description": "",
      "description_tooltip": null,
      "layout": "IPY_MODEL_c34af28df6e64912b379578729dedc66",
      "placeholder": "​",
      "style": "IPY_MODEL_e3ab31d9800043329fa9b1141b3dc24d",
      "value": "Loading checkpoint shards: 100%"
     }
    },
    "c34af28df6e64912b379578729dedc66": {
     "model_module": "@jupyter-widgets/base",
     "model_module_version": "1.2.0",
     "model_name": "LayoutModel",
     "state": {
      "_model_module": "@jupyter-widgets/base",
      "_model_module_version": "1.2.0",
      "_model_name": "LayoutModel",
      "_view_count": null,
      "_view_module": "@jupyter-widgets/base",
      "_view_module_version": "1.2.0",
      "_view_name": "LayoutView",
      "align_content": null,
      "align_items": null,
      "align_self": null,
      "border": null,
      "bottom": null,
      "display": null,
      "flex": null,
      "flex_flow": null,
      "grid_area": null,
      "grid_auto_columns": null,
      "grid_auto_flow": null,
      "grid_auto_rows": null,
      "grid_column": null,
      "grid_gap": null,
      "grid_row": null,
      "grid_template_areas": null,
      "grid_template_columns": null,
      "grid_template_rows": null,
      "height": null,
      "justify_content": null,
      "justify_items": null,
      "left": null,
      "margin": null,
      "max_height": null,
      "max_width": null,
      "min_height": null,
      "min_width": null,
      "object_fit": null,
      "object_position": null,
      "order": null,
      "overflow": null,
      "overflow_x": null,
      "overflow_y": null,
      "padding": null,
      "right": null,
      "top": null,
      "visibility": null,
      "width": null
     }
    },
    "d3686346db5342cb81f555e6f325dd2b": {
     "model_module": "@jupyter-widgets/controls",
     "model_module_version": "1.5.0",
     "model_name": "ProgressStyleModel",
     "state": {
      "_model_module": "@jupyter-widgets/controls",
      "_model_module_version": "1.5.0",
      "_model_name": "ProgressStyleModel",
      "_view_count": null,
      "_view_module": "@jupyter-widgets/base",
      "_view_module_version": "1.2.0",
      "_view_name": "StyleView",
      "bar_color": null,
      "description_width": ""
     }
    },
    "d85050dd57f34c8a9bd69a0bdfb2087b": {
     "model_module": "@jupyter-widgets/base",
     "model_module_version": "1.2.0",
     "model_name": "LayoutModel",
     "state": {
      "_model_module": "@jupyter-widgets/base",
      "_model_module_version": "1.2.0",
      "_model_name": "LayoutModel",
      "_view_count": null,
      "_view_module": "@jupyter-widgets/base",
      "_view_module_version": "1.2.0",
      "_view_name": "LayoutView",
      "align_content": null,
      "align_items": null,
      "align_self": null,
      "border": null,
      "bottom": null,
      "display": null,
      "flex": null,
      "flex_flow": null,
      "grid_area": null,
      "grid_auto_columns": null,
      "grid_auto_flow": null,
      "grid_auto_rows": null,
      "grid_column": null,
      "grid_gap": null,
      "grid_row": null,
      "grid_template_areas": null,
      "grid_template_columns": null,
      "grid_template_rows": null,
      "height": null,
      "justify_content": null,
      "justify_items": null,
      "left": null,
      "margin": null,
      "max_height": null,
      "max_width": null,
      "min_height": null,
      "min_width": null,
      "object_fit": null,
      "object_position": null,
      "order": null,
      "overflow": null,
      "overflow_x": null,
      "overflow_y": null,
      "padding": null,
      "right": null,
      "top": null,
      "visibility": null,
      "width": null
     }
    },
    "e15bb373ca214346960cb6527d921fec": {
     "model_module": "@jupyter-widgets/controls",
     "model_module_version": "1.5.0",
     "model_name": "HTMLModel",
     "state": {
      "_dom_classes": [],
      "_model_module": "@jupyter-widgets/controls",
      "_model_module_version": "1.5.0",
      "_model_name": "HTMLModel",
      "_view_count": null,
      "_view_module": "@jupyter-widgets/controls",
      "_view_module_version": "1.5.0",
      "_view_name": "HTMLView",
      "description": "",
      "description_tooltip": null,
      "layout": "IPY_MODEL_d85050dd57f34c8a9bd69a0bdfb2087b",
      "placeholder": "​",
      "style": "IPY_MODEL_56cb4279b9d54efc96a226f7ecd2a8a0",
      "value": " 9/9 [02:16&lt;00:00, 14.50s/it]"
     }
    },
    "e3ab31d9800043329fa9b1141b3dc24d": {
     "model_module": "@jupyter-widgets/controls",
     "model_module_version": "1.5.0",
     "model_name": "DescriptionStyleModel",
     "state": {
      "_model_module": "@jupyter-widgets/controls",
      "_model_module_version": "1.5.0",
      "_model_name": "DescriptionStyleModel",
      "_view_count": null,
      "_view_module": "@jupyter-widgets/base",
      "_view_module_version": "1.2.0",
      "_view_name": "StyleView",
      "description_width": ""
     }
    },
    "f0f1d461dd674d4a986be7423681e412": {
     "model_module": "@jupyter-widgets/base",
     "model_module_version": "1.2.0",
     "model_name": "LayoutModel",
     "state": {
      "_model_module": "@jupyter-widgets/base",
      "_model_module_version": "1.2.0",
      "_model_name": "LayoutModel",
      "_view_count": null,
      "_view_module": "@jupyter-widgets/base",
      "_view_module_version": "1.2.0",
      "_view_name": "LayoutView",
      "align_content": null,
      "align_items": null,
      "align_self": null,
      "border": null,
      "bottom": null,
      "display": null,
      "flex": null,
      "flex_flow": null,
      "grid_area": null,
      "grid_auto_columns": null,
      "grid_auto_flow": null,
      "grid_auto_rows": null,
      "grid_column": null,
      "grid_gap": null,
      "grid_row": null,
      "grid_template_areas": null,
      "grid_template_columns": null,
      "grid_template_rows": null,
      "height": null,
      "justify_content": null,
      "justify_items": null,
      "left": null,
      "margin": null,
      "max_height": null,
      "max_width": null,
      "min_height": null,
      "min_width": null,
      "object_fit": null,
      "object_position": null,
      "order": null,
      "overflow": null,
      "overflow_x": null,
      "overflow_y": null,
      "padding": null,
      "right": null,
      "top": null,
      "visibility": null,
      "width": null
     }
    }
   }
  }
 },
 "nbformat": 4,
 "nbformat_minor": 4
}
