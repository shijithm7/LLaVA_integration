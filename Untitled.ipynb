{
 "cells": [
  {
   "cell_type": "code",
   "execution_count": 1,
   "id": "917a9797-2af2-4e6d-adc6-8c51aa45c946",
   "metadata": {},
   "outputs": [],
   "source": [
    "import PIL"
   ]
  },
  {
   "cell_type": "code",
   "execution_count": 3,
   "id": "7ae96010-7e8f-4db8-af2f-1f00722eab7d",
   "metadata": {},
   "outputs": [
    {
     "name": "stdout",
     "output_type": "stream",
     "text": [
      "Python 3.10.12\n"
     ]
    }
   ],
   "source": [
    "!python --version"
   ]
  },
  {
   "cell_type": "code",
   "execution_count": 4,
   "id": "a0430e09-26f9-4056-9918-696ae2c0e9b7",
   "metadata": {},
   "outputs": [
    {
     "name": "stdout",
     "output_type": "stream",
     "text": [
      "Cloning into 'LLaVA'...\n",
      "remote: Enumerating objects: 1960, done.\u001b[K\n",
      "remote: Total 1960 (delta 0), reused 0 (delta 0), pack-reused 1960 (from 1)\u001b[K\n",
      "Receiving objects: 100% (1960/1960), 13.60 MiB | 1.17 MiB/s, done.\n",
      "Resolving deltas: 100% (1173/1173), done.\n"
     ]
    }
   ],
   "source": [
    "!git clone -b v1.0 https://github.com/camenduru/LLaVA"
   ]
  },
  {
   "cell_type": "code",
   "execution_count": 5,
   "id": "e0f3467c-2658-4d4a-a977-a1bfcd6525ac",
   "metadata": {},
   "outputs": [
    {
     "name": "stdout",
     "output_type": "stream",
     "text": [
      "/media/shijith/storage/GenAI/LLaVA_integration/LLaVA\n"
     ]
    }
   ],
   "source": [
    "%cd LLaVA"
   ]
  },
  {
   "cell_type": "code",
   "execution_count": null,
   "id": "2aead9b5-757a-4844-94a7-fb137cd6c8e2",
   "metadata": {},
   "outputs": [],
   "source": []
  }
 ],
 "metadata": {
  "kernelspec": {
   "display_name": "Python 3 (ipykernel)",
   "language": "python",
   "name": "python3"
  },
  "language_info": {
   "codemirror_mode": {
    "name": "ipython",
    "version": 3
   },
   "file_extension": ".py",
   "mimetype": "text/x-python",
   "name": "python",
   "nbconvert_exporter": "python",
   "pygments_lexer": "ipython3",
   "version": "3.8.10"
  }
 },
 "nbformat": 4,
 "nbformat_minor": 5
}
